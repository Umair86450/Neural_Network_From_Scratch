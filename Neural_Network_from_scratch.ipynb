{
 "cells": [
  {
   "cell_type": "markdown",
   "id": "43cbc0c6-5a25-454b-b7f0-ae3b057d2c77",
   "metadata": {},
   "source": [
    "### 1. Importing Libraries"
   ]
  },
  {
   "cell_type": "code",
   "execution_count": 1,
   "id": "8ea375a3-7672-4533-a95e-83e7f7a088ed",
   "metadata": {},
   "outputs": [],
   "source": [
    "import math  # Import the math module to use the built-in exp function\n"
   ]
  },
  {
   "cell_type": "markdown",
   "id": "5e459faf-6fc0-467a-950f-89b06828441c",
   "metadata": {},
   "source": [
    "### 2. Initialize Inputs and Target Outputs"
   ]
  },
  {
   "cell_type": "code",
   "execution_count": 2,
   "id": "1f17ebaf-6742-4696-a192-27142c7dfa49",
   "metadata": {},
   "outputs": [],
   "source": [
    "# Initialize inputs and target outputs\n",
    "x1 = 0.05\n",
    "x2 = 0.10\n",
    "t1 = 0.01\n",
    "t2 = 0.99\n"
   ]
  },
  {
   "cell_type": "markdown",
   "id": "71444e6e-7fa5-434f-9925-d4d6119b3d08",
   "metadata": {},
   "source": [
    "### 3. Initialize Weights"
   ]
  },
  {
   "cell_type": "code",
   "execution_count": 3,
   "id": "2e0edf21-6612-4707-8784-db69cc9dd5bd",
   "metadata": {},
   "outputs": [],
   "source": [
    "# Initialize weights\n",
    "w1 = 0.15\n",
    "w2 = 0.20\n",
    "w3 = 0.25\n",
    "w4 = 0.30\n",
    "w5 = 0.40\n",
    "w6 = 0.45\n",
    "w7 = 0.50\n",
    "w8 = 0.55\n"
   ]
  },
  {
   "cell_type": "markdown",
   "id": "ee08391a-7e98-415e-a4fa-2d2b0e35bd98",
   "metadata": {},
   "source": [
    "### 4. Initialize Biases"
   ]
  },
  {
   "cell_type": "code",
   "execution_count": 4,
   "id": "c7d239da-2895-4af0-90cb-01901510be37",
   "metadata": {},
   "outputs": [],
   "source": [
    "# Initialize biases\n",
    "b1 = 0.35  # Bias for hidden layer\n",
    "b2 = 0.60  # Bias for output layer\n"
   ]
  },
  {
   "cell_type": "markdown",
   "id": "44ef0e14-f770-4213-939b-833c3995fe72",
   "metadata": {},
   "source": [
    "### 5. Set Learning Rate"
   ]
  },
  {
   "cell_type": "code",
   "execution_count": 5,
   "id": "dd8a5fdd-1686-4b88-ab3f-4dcf8fe67f36",
   "metadata": {},
   "outputs": [],
   "source": [
    "# Learning rate\n",
    "eta = 0.5\n"
   ]
  },
  {
   "cell_type": "markdown",
   "id": "9215001f-a35a-4031-ac9c-cda3080288da",
   "metadata": {},
   "source": [
    "### 6. Define the Sigmoid Activation Function and Its Derivative"
   ]
  },
  {
   "cell_type": "markdown",
   "id": "5a0f2bf1-5d31-4dac-b9d4-f03b92686d9b",
   "metadata": {},
   "source": [
    "**Sigmoid Function**"
   ]
  },
  {
   "cell_type": "code",
   "execution_count": 6,
   "id": "c45fc1b8-c961-4b72-9c35-4c687a2bbf3a",
   "metadata": {},
   "outputs": [],
   "source": [
    "def sigmoid(x):\n",
    "    return 1 / (1 + math.exp(-x))\n"
   ]
  },
  {
   "cell_type": "markdown",
   "id": "4d4c015d-12eb-48d5-bb3b-8278b7224429",
   "metadata": {},
   "source": [
    "**Derivative of Sigmoid**"
   ]
  },
  {
   "cell_type": "code",
   "execution_count": 7,
   "id": "f29ceb90-f368-4bf0-b9b0-d5b48a5c8297",
   "metadata": {},
   "outputs": [],
   "source": [
    "def sigmoid_derivative(output):\n",
    "    return output * (1 - output)\n"
   ]
  },
  {
   "cell_type": "markdown",
   "id": "79dcad0d-2033-4665-acfb-a2917cd0a8fb",
   "metadata": {},
   "source": [
    "### 7. Forward Propagation"
   ]
  },
  {
   "cell_type": "markdown",
   "id": "57ed1da1-be3c-497e-84b6-f3a9228e226f",
   "metadata": {},
   "source": [
    "**Calculate Net Input to Hidden Layer Neurons**\n",
    "\n",
    "y=wx+b."
   ]
  },
  {
   "cell_type": "code",
   "execution_count": 8,
   "id": "76b3fc0a-6252-44f3-a82c-50fec2c1d4f0",
   "metadata": {},
   "outputs": [],
   "source": [
    "net_h1 = x1 * w1 + x2 * w2 + b1\n",
    "net_h2 = x1 * w3 + x2 * w4 + b1\n"
   ]
  },
  {
   "cell_type": "markdown",
   "id": "cf83ed1c-fdf9-40f8-a514-f28cb4e7b6cd",
   "metadata": {},
   "source": [
    "**Activation of Hidden Layer Neurons**"
   ]
  },
  {
   "cell_type": "code",
   "execution_count": 9,
   "id": "7460dab0-aebe-4a14-8b09-4dbc9d6dc9ef",
   "metadata": {},
   "outputs": [],
   "source": [
    "h1 = sigmoid(net_h1)\n",
    "h2 = sigmoid(net_h2)\n"
   ]
  },
  {
   "cell_type": "markdown",
   "id": "18b713cd-963a-4ef4-adac-8c22adba799c",
   "metadata": {},
   "source": [
    "**Calculate Net Input to Output Layer Neurons**"
   ]
  },
  {
   "cell_type": "code",
   "execution_count": 10,
   "id": "35184310-ea45-4ff9-8a4d-0ddf726a5b9d",
   "metadata": {},
   "outputs": [],
   "source": [
    "net_o1 = h1 * w5 + h2 * w6 + b2\n",
    "net_o2 = h1 * w7 + h2 * w8 + b2\n"
   ]
  },
  {
   "cell_type": "markdown",
   "id": "806a1303-d430-4244-a92b-c7f583985258",
   "metadata": {},
   "source": [
    "**Activation of Output Layer Neurons**"
   ]
  },
  {
   "cell_type": "code",
   "execution_count": 11,
   "id": "0789068d-a411-447e-a321-5ca7d31f567f",
   "metadata": {},
   "outputs": [],
   "source": [
    "o1 = sigmoid(net_o1)\n",
    "o2 = sigmoid(net_o2)\n"
   ]
  },
  {
   "cell_type": "markdown",
   "id": "756e09cd-205a-4985-9cb2-f6237ce2c7a5",
   "metadata": {},
   "source": [
    "### 8. Calculate the Error"
   ]
  },
  {
   "cell_type": "code",
   "execution_count": 12,
   "id": "50dd0023-8232-41e6-9c00-c227046ceb24",
   "metadata": {},
   "outputs": [],
   "source": [
    "E_total = 0.5 * ((t1 - o1) ** 2 + (t2 - o2) ** 2)\n"
   ]
  },
  {
   "cell_type": "markdown",
   "id": "27844571-8042-47af-ab9e-80116709badd",
   "metadata": {},
   "source": [
    "### 9. Backpropagation"
   ]
  },
  {
   "cell_type": "markdown",
   "id": "40449ebe-1150-416d-ad3d-cfe410175a59",
   "metadata": {},
   "source": [
    "**Calculate Error Terms for Output Neurons**"
   ]
  },
  {
   "cell_type": "code",
   "execution_count": 13,
   "id": "6ac0cc89-001d-4008-b7a1-8efba0cc3ece",
   "metadata": {},
   "outputs": [],
   "source": [
    "delta_o1 = (o1 - t1) * sigmoid_derivative(o1)\n",
    "delta_o2 = (o2 - t2) * sigmoid_derivative(o2)\n"
   ]
  },
  {
   "cell_type": "markdown",
   "id": "667dcfa5-656d-4ba2-b8c1-2c8cd144d44b",
   "metadata": {},
   "source": [
    "**Update Weights and Bias Between Hidden and Output Layers**"
   ]
  },
  {
   "cell_type": "code",
   "execution_count": 18,
   "id": "6118d527-852c-4691-9662-d4b844747bea",
   "metadata": {},
   "outputs": [],
   "source": [
    "w5_new = w5 - eta * delta_o1 * h1\n",
    "w6_new = w6 - eta * delta_o1 * h2\n",
    "w7_new = w7 - eta * delta_o2 * h1\n",
    "w8_new = w8 - eta * delta_o2 * h2\n",
    "\n"
   ]
  },
  {
   "cell_type": "markdown",
   "id": "f55b6ed0-6bb2-4eab-9133-f4633617c555",
   "metadata": {},
   "source": [
    "**Calculate Error Terms for Hidden Neurons**"
   ]
  },
  {
   "cell_type": "code",
   "execution_count": 19,
   "id": "dae58cb3-d565-41ad-84f4-ac008b05c604",
   "metadata": {},
   "outputs": [],
   "source": [
    "delta_h1 = (delta_o1 * w5 + delta_o2 * w7) * sigmoid_derivative(h1)\n",
    "delta_h2 = (delta_o1 * w6 + delta_o2 * w8) * sigmoid_derivative(h2)\n"
   ]
  },
  {
   "cell_type": "markdown",
   "id": "251d2bb3-5843-4941-a167-4c08dfeb2118",
   "metadata": {},
   "source": [
    "**Update Weights and Bias Between Input and Hidden Layers**"
   ]
  },
  {
   "cell_type": "code",
   "execution_count": 20,
   "id": "f8b4729a-6777-415c-9d5a-6ff6326045e6",
   "metadata": {},
   "outputs": [],
   "source": [
    "w1_new = w1 - eta * delta_h1 * x1\n",
    "w2_new = w2 - eta * delta_h1 * x2\n",
    "w3_new = w3 - eta * delta_h2 * x1\n",
    "w4_new = w4 - eta * delta_h2 * x2\n",
    "\n"
   ]
  },
  {
   "cell_type": "markdown",
   "id": "8dfe6f0f-639e-4d5a-aaf4-75edacb214c0",
   "metadata": {},
   "source": [
    "### 10. Display Results"
   ]
  },
  {
   "cell_type": "code",
   "execution_count": 23,
   "id": "d9123691-3750-4abf-ba00-07ff09c158db",
   "metadata": {},
   "outputs": [
    {
     "name": "stdout",
     "output_type": "stream",
     "text": [
      "Initial Weights and Biases:\n",
      "w1: 0.15000\n",
      "w2: 0.20000\n",
      "w3: 0.25000\n",
      "w4: 0.30000\n",
      "w5: 0.40000\n",
      "w6: 0.45000\n",
      "w7: 0.50000\n",
      "w8: 0.55000\n",
      "b1: 0.35000\n",
      "b2: 0.60000\n",
      "\n",
      "Updated Weights and Biases after one iteration:\n",
      "w1_new: 0.14978\n",
      "w2_new: 0.19956\n",
      "w3_new: 0.24975\n",
      "w4_new: 0.29950\n",
      "w5_new: 0.35892\n",
      "w6_new: 0.40867\n",
      "w7_new: 0.51130\n",
      "w8_new: 0.56137\n",
      "\n",
      "Total Error after one iteration: 0.2983711087600027\n"
     ]
    }
   ],
   "source": [
    "# Display results in the requested format\n",
    "print(\"Initial Weights and Biases:\")\n",
    "print(f\"w1: {w1:.5f}\")\n",
    "print(f\"w2: {w2:.5f}\")\n",
    "print(f\"w3: {w3:.5f}\")\n",
    "print(f\"w4: {w4:.5f}\")\n",
    "print(f\"w5: {w5:.5f}\")\n",
    "print(f\"w6: {w6:.5f}\")\n",
    "print(f\"w7: {w7:.5f}\")\n",
    "print(f\"w8: {w8:.5f}\")\n",
    "print(f\"b1: {b1:.5f}\")\n",
    "print(f\"b2: {b2:.5f}\")\n",
    "\n",
    "print(\"\\nUpdated Weights and Biases after one iteration:\")\n",
    "print(f\"w1_new: {w1_new:.5f}\")\n",
    "print(f\"w2_new: {w2_new:.5f}\")\n",
    "print(f\"w3_new: {w3_new:.5f}\")\n",
    "print(f\"w4_new: {w4_new:.5f}\")\n",
    "print(f\"w5_new: {w5_new:.5f}\")\n",
    "print(f\"w6_new: {w6_new:.5f}\")\n",
    "print(f\"w7_new: {w7_new:.5f}\")\n",
    "print(f\"w8_new: {w8_new:.5f}\")\n",
    "\n",
    "\n",
    "print(\"\\nTotal Error after one iteration:\", E_total)\n"
   ]
  },
  {
   "cell_type": "markdown",
   "id": "7d9add3a-45c9-4ddb-9d4c-11ddf24eaff3",
   "metadata": {},
   "source": [
    "**Output show**"
   ]
  },
  {
   "cell_type": "code",
   "execution_count": 25,
   "id": "90819e4d-969a-489c-80e4-b2d100cecf2c",
   "metadata": {},
   "outputs": [
    {
     "name": "stdout",
     "output_type": "stream",
     "text": [
      "Predicted Outputs after One Iteration:\n",
      "Output for o1: 0.75137\n",
      "Output for o2: 0.77293\n",
      "Total Error: 0.29837\n"
     ]
    }
   ],
   "source": [
    "# Display predicted outputs in print format\n",
    "print(\"Predicted Outputs after One Iteration:\")\n",
    "print(f\"Output for o1: {o1:.5f}\")\n",
    "print(f\"Output for o2: {o2:.5f}\")\n",
    "print(f\"Total Error: {E_total:.5f}\")\n"
   ]
  }
 ],
 "metadata": {
  "kernelspec": {
   "display_name": "Python 3 (ipykernel)",
   "language": "python",
   "name": "python3"
  },
  "language_info": {
   "codemirror_mode": {
    "name": "ipython",
    "version": 3
   },
   "file_extension": ".py",
   "mimetype": "text/x-python",
   "name": "python",
   "nbconvert_exporter": "python",
   "pygments_lexer": "ipython3",
   "version": "3.10.15"
  }
 },
 "nbformat": 4,
 "nbformat_minor": 5
}
